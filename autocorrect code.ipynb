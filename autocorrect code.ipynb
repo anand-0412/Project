{
 "cells": [
  {
   "cell_type": "code",
   "execution_count": 1,
   "id": "72bbd89b",
   "metadata": {},
   "outputs": [],
   "source": [
    "import nltk\n",
    "from nltk.corpus import words\n",
    "from nltk.metrics.distance import edit_distance"
   ]
  },
  {
   "cell_type": "code",
   "execution_count": 2,
   "id": "ee1481d7",
   "metadata": {},
   "outputs": [
    {
     "name": "stderr",
     "output_type": "stream",
     "text": [
      "[nltk_data] Downloading package words to\n",
      "[nltk_data]     C:\\Users\\hp\\AppData\\Roaming\\nltk_data...\n",
      "[nltk_data]   Package words is already up-to-date!\n"
     ]
    }
   ],
   "source": [
    "nltk.download('words')\n",
    "english_words = set(words.words())"
   ]
  },
  {
   "cell_type": "code",
   "execution_count": 3,
   "id": "4f0f3367",
   "metadata": {},
   "outputs": [],
   "source": [
    "def correct_word(word):\n",
    "    if word in english_words:\n",
    "        return word  # Word is already correct\n",
    "    else:\n",
    "        suggestions = []\n",
    "        for w in english_words:\n",
    "            distance = edit_distance(word, w)\n",
    "            if distance <= 2:  # Consider words within an edit distance of 2\n",
    "                suggestions.append((w, distance))\n",
    "\n",
    "        if suggestions:\n",
    "            suggestions = sorted(suggestions, key=lambda x: x[1])\n",
    "            return suggestions[0][0]  # Return the nearest word\n",
    "        else:\n",
    "            return None  # No suggestions found"
   ]
  },
  {
   "cell_type": "code",
   "execution_count": 7,
   "id": "079a1e31",
   "metadata": {},
   "outputs": [
    {
     "name": "stdout",
     "output_type": "stream",
     "text": [
      "enter a word: happinesh\n"
     ]
    }
   ],
   "source": [
    "word = input('enter a word: ')\n",
    "correction = correct_word(word)\n"
   ]
  },
  {
   "cell_type": "code",
   "execution_count": 8,
   "id": "61d8ac74",
   "metadata": {},
   "outputs": [
    {
     "name": "stdout",
     "output_type": "stream",
     "text": [
      "The corrected word: happiness\n"
     ]
    }
   ],
   "source": [
    "if (correction!=word):\n",
    "    print(\"The corrected word:\", correction)\n",
    "else:\n",
    "    print(\"No correction found.\")"
   ]
  },
  {
   "cell_type": "code",
   "execution_count": null,
   "id": "2df3c8f8",
   "metadata": {},
   "outputs": [],
   "source": []
  },
  {
   "cell_type": "code",
   "execution_count": null,
   "id": "229c79fb",
   "metadata": {},
   "outputs": [],
   "source": []
  }
 ],
 "metadata": {
  "kernelspec": {
   "display_name": "Python 3 (ipykernel)",
   "language": "python",
   "name": "python3"
  },
  "language_info": {
   "codemirror_mode": {
    "name": "ipython",
    "version": 3
   },
   "file_extension": ".py",
   "mimetype": "text/x-python",
   "name": "python",
   "nbconvert_exporter": "python",
   "pygments_lexer": "ipython3",
   "version": "3.9.12"
  }
 },
 "nbformat": 4,
 "nbformat_minor": 5
}
